{
 "cells": [
  {
   "cell_type": "code",
   "execution_count": 1,
   "id": "6680cbec-9c42-4716-ba8f-a8ef2031438d",
   "metadata": {},
   "outputs": [],
   "source": [
    "import matplotlib\n",
    "import matplotlib.pyplot as plt\n",
    "import os\n",
    "import pandas as pd\n",
    "import glob\n",
    "import numpy as np"
   ]
  },
  {
   "cell_type": "code",
   "execution_count": 2,
   "id": "f0b0240c-f48b-4edb-8d70-3e2e34e106a7",
   "metadata": {},
   "outputs": [],
   "source": [
    "path = '/uscms/home/jieun201/nobackup/YOURWORKINGAREA/june23_ds8_labelsOnly' #these are only the positive labels\n",
    "csv_files = glob.glob(path + \"/*.csv\")\n",
    "df_labels = (pd.read_csv(file) for file in csv_files)\n",
    "big_df_labels   = pd.concat(df_labels, ignore_index=True)"
   ]
  },
  {
   "cell_type": "code",
   "execution_count": 3,
   "id": "f64e5c00-1128-4e93-942b-abea1bbe395c",
   "metadata": {
    "tags": []
   },
   "outputs": [],
   "source": [
    "#countNumberLowPTPositiveTracks = big_df_labels[big_df_labels['pt'] < 0.2]\n",
    "#countNumberLowPTPositiveTracks"
   ]
  },
  {
   "cell_type": "code",
   "execution_count": 4,
   "id": "5c8fc3a0-4c26-4edc-9bce-566750916c66",
   "metadata": {
    "tags": []
   },
   "outputs": [],
   "source": [
    "#plt.hist(big_df_labels ['pt'],bins=np.linspace(0,3,300),histtype='stepfilled');\n",
    "#plt.hist(big_df_labels ['pt'],bins=np.linspace(0,1,100),histtype='stepfilled');\n",
    "#plt.xlabel(r'$p_T$ [GeV] (100 bins)')\n",
    "#plt.ylabel('Tracks')\n",
    "#plt.title('physical distribution of all positive pT clusters (zoomed in to show 0 to 1 GeV)')"
   ]
  },
  {
   "cell_type": "code",
   "execution_count": 5,
   "id": "deac7d64-98d0-47a6-a194-7d671f059993",
   "metadata": {},
   "outputs": [
    {
     "data": {
      "text/plain": [
       "array([ 13121, 100733, 219511, 378631, 493818, 438212, 547937, 478947,\n",
       "       425033, 343590, 248865, 164286,  96929,  60015,  27423,  16405])"
      ]
     },
     "execution_count": 5,
     "metadata": {},
     "output_type": "execute_result"
    }
   ],
   "source": [
    "physicalDistributionPT = pd.Series(big_df_labels['pt'])\n",
    "physicalDistributionPT_binCounts = physicalDistributionPT.value_counts(bins=[0.11,0.14,0.18,0.22,0.28,0.36,0.44,0.56,0.70,0.88,1.11,1.40,1.76,2.19,2.80,3.52,10]).sort_index()\n",
    "physicalDistributionPT_binCounts_asArray = np.array(physicalDistributionPT_binCounts)\n",
    "physicalDistributionPT_binCounts_asArray "
   ]
  },
  {
   "cell_type": "code",
   "execution_count": 6,
   "id": "3762ded7-6b0a-44ce-9595-4bc00bc95463",
   "metadata": {
    "tags": []
   },
   "outputs": [
    {
     "data": {
      "text/plain": [
       "array([50.  , 14.29,  5.  ,  2.78,  2.17,  1.69,  1.43,  1.27,  1.19,\n",
       "        1.15,  1.12,  1.11,  1.11,  1.1 ,  1.1 ,  1.09])"
      ]
     },
     "execution_count": 6,
     "metadata": {},
     "output_type": "execute_result"
    }
   ],
   "source": [
    "#new Ratio based on efficiency\n",
    "array1 = np.array([0.02,0.07,0.20,0.36,0.46,0.59,0.70,0.79,0.84,0.87,0.89,0.90,0.90,0.91,0.91,0.92])  #binning of CMS Run 3 plot\n",
    "transformPhysicalDistributionMatchCMS_Run3_Ratio = 1/array1\n",
    "transformPhysicalDistributionMatchCMS_Run3_Ratio\n",
    "np.round(transformPhysicalDistributionMatchCMS_Run3_Ratio,2)\n",
    "#len(transformPhysicalDistributionMatchCMS_Run3_Ratio)"
   ]
  },
  {
   "cell_type": "code",
   "execution_count": 7,
   "id": "d1ef3791-cb58-4bf0-a5d5-1332a06138cd",
   "metadata": {
    "tags": []
   },
   "outputs": [
    {
     "data": {
      "text/plain": [
       "array([ 656050.   , 1439042.857, 1097555.   , 1051752.778, 1073517.391,\n",
       "        742732.203,  782767.143,  606262.025,  505991.667,  394931.034,\n",
       "        279623.596,  182540.   ,  107698.889,   65950.549,   30135.165,\n",
       "         17831.522])"
      ]
     },
     "execution_count": 7,
     "metadata": {},
     "output_type": "execute_result"
    }
   ],
   "source": [
    "transformPhysicalDistributionMatchCMS_Run3 = physicalDistributionPT_binCounts_asArray = np.multiply(physicalDistributionPT_binCounts_asArray, transformPhysicalDistributionMatchCMS_Run3_Ratio )\n",
    "transformPhysicalDistributionMatchCMS_Run3\n",
    "np.round(transformPhysicalDistributionMatchCMS_Run3,3)\n",
    "#len(transformPhysicalDistributionMatchCMS_Run3)"
   ]
  },
  {
   "cell_type": "code",
   "execution_count": 8,
   "id": "3451084e-6993-47a5-824c-80c7679511c3",
   "metadata": {
    "tags": []
   },
   "outputs": [
    {
     "data": {
      "text/plain": [
       "array([ 656050. , 1439042.9, 1097555. , 1051752.8, 1073517.4,  742732.2,\n",
       "        782767.1,  606262. ,  505991.7,  394931. ,  279623.6,  182540. ,\n",
       "        107698.9,   65950.5,   30135.2,   17831.5])"
      ]
     },
     "execution_count": 8,
     "metadata": {},
     "output_type": "execute_result"
    }
   ],
   "source": [
    "np.round(transformPhysicalDistributionMatchCMS_Run3,1)"
   ]
  },
  {
   "cell_type": "code",
   "execution_count": 9,
   "id": "2bf568f3-15e3-4a13-b3cf-47f9095f52fd",
   "metadata": {
    "tags": []
   },
   "outputs": [
    {
     "data": {
      "text/plain": [
       "9034381.819357188"
      ]
     },
     "execution_count": 9,
     "metadata": {},
     "output_type": "execute_result"
    }
   ],
   "source": [
    "sumTransformPhysicalDistibutionmatchCMS_Run3 = np.sum(transformPhysicalDistributionMatchCMS_Run3)\n",
    "sumTransformPhysicalDistibutionmatchCMS_Run3"
   ]
  },
  {
   "cell_type": "code",
   "execution_count": 10,
   "id": "32d997fe-6048-4161-8bbd-eee1b50986eb",
   "metadata": {},
   "outputs": [],
   "source": [
    "df1 = pd.read_csv('/uscms/home/jieun201/nobackup/YOURWORKINGAREA/dec6_ds8/TestSetTruePT.csv')\n",
    "df2 = pd.read_csv('/home/jieun201/redo_dec6_dec8_FP/predictionsFiles.csv')\n",
    "df3 = pd.read_csv('/home/jieun201/redo_dec6_dec8_FP/true.csv')\n",
    "df2.columns.values[0] = \"predict\"\n",
    "df3.columns.values[0] = \"true\"\n",
    "df2['predict'] = df2['predict'].astype(int)\n",
    "concatenate = pd.concat([df1,df2, df3], axis=1)\n",
    "concatenatePos = concatenate[concatenate['pt']>0]"
   ]
  },
  {
   "cell_type": "code",
   "execution_count": 11,
   "id": "8eb5eeb6-0731-4a7a-9e49-dfd1143009fc",
   "metadata": {},
   "outputs": [
    {
     "data": {
      "text/plain": [
       "array([ 2477, 18742, 20584,  4038,  5334,  4658,  5753,  4997,  4531,\n",
       "        3662,  2667,  1742,  1048,   594,   285,   161])"
      ]
     },
     "execution_count": 11,
     "metadata": {},
     "output_type": "execute_result"
    }
   ],
   "source": [
    "s2 = pd.Series(df1['pt'])\n",
    "BigSampleValueCounts2 = s2.value_counts(bins=[0.11,0.14,0.18,0.22,0.28,0.36,0.44,0.56,0.70,0.88,1.11,1.40,1.76,2.19,2.80,3.52,10]).sort_index()\n",
    "testSetTotalCounts = np.array(BigSampleValueCounts2)\n",
    "testSetTotalCounts\n"
   ]
  },
  {
   "cell_type": "code",
   "execution_count": 12,
   "id": "f57e606e-9828-43fa-9e00-895a87d3077b",
   "metadata": {
    "tags": []
   },
   "outputs": [
    {
     "data": {
      "text/plain": [
       "81273"
      ]
     },
     "execution_count": 12,
     "metadata": {},
     "output_type": "execute_result"
    }
   ],
   "source": [
    "np.sum(testSetTotalCounts)"
   ]
  },
  {
   "cell_type": "code",
   "execution_count": 13,
   "id": "f563ac3a-9639-4412-b005-d18fae07d2fe",
   "metadata": {},
   "outputs": [
    {
     "data": {
      "text/plain": [
       "array([ 2312, 15472, 14985,  2189,  2046,  1259,  1187,   716,   515,\n",
       "         392,   248,   139,    92,    37,    26,    10])"
      ]
     },
     "execution_count": 13,
     "metadata": {},
     "output_type": "execute_result"
    }
   ],
   "source": [
    "concatPosPredictRight1 = concatenatePos[(concatenatePos['predict'] ==1) | (concatenatePos['predict'] ==2)]\n",
    "s3 = pd.Series(concatPosPredictRight1['pt'])\n",
    "BigSampleValueCounts3 = s3.value_counts(bins=[0.11,0.14,0.18,0.22,0.28,0.36,0.44,0.56,0.70,0.88,1.11,1.40,1.76,2.19,2.80,3.52,10]).sort_index()\n",
    "testSetPredictedAsLowPT = np.array(BigSampleValueCounts3)\n",
    "testSetPredictedAsLowPT"
   ]
  },
  {
   "cell_type": "code",
   "execution_count": 14,
   "id": "d493a306-a02a-4a73-96c5-613929b2832f",
   "metadata": {
    "tags": []
   },
   "outputs": [
    {
     "data": {
      "text/plain": [
       "array([264.85668147,  76.78171258,  53.32078313, 260.46378845,\n",
       "       201.25935345, 159.45302778, 136.06242706, 121.32520018,\n",
       "       111.67328772, 107.84572214, 104.8457426 , 104.78760046,\n",
       "       102.76611535, 111.02786103, 105.73742047, 110.75479341])"
      ]
     },
     "execution_count": 14,
     "metadata": {},
     "output_type": "execute_result"
    }
   ],
   "source": [
    "makeRatio = transformPhysicalDistributionMatchCMS_Run3/testSetTotalCounts\n",
    "makeRatio"
   ]
  },
  {
   "cell_type": "code",
   "execution_count": 15,
   "id": "40193985-b67a-4a4f-8f03-6de280af8975",
   "metadata": {
    "tags": []
   },
   "outputs": [
    {
     "data": {
      "text/plain": [
       "array([264.9,  76.8,  53.3, 260.5, 201.3, 159.5, 136.1, 121.3, 111.7,\n",
       "       107.8, 104.8, 104.8, 102.8, 111. , 105.7, 110.8])"
      ]
     },
     "execution_count": 15,
     "metadata": {},
     "output_type": "execute_result"
    }
   ],
   "source": [
    "np.round(makeRatio,1)"
   ]
  },
  {
   "cell_type": "code",
   "execution_count": 16,
   "id": "47f9b63a-8ef2-4027-958b-69c01d35f8d8",
   "metadata": {},
   "outputs": [
    {
     "data": {
      "text/plain": [
       "4188159.1373367617"
      ]
     },
     "execution_count": 16,
     "metadata": {},
     "output_type": "execute_result"
    }
   ],
   "source": [
    "Sum = np.dot(testSetPredictedAsLowPT,makeRatio)\n",
    "Sum"
   ]
  },
  {
   "cell_type": "code",
   "execution_count": 17,
   "id": "1bd7a5f6-e91f-4f9f-bf2e-bae302256617",
   "metadata": {},
   "outputs": [
    {
     "data": {
      "text/plain": [
       "0.4635800457717157"
      ]
     },
     "execution_count": 17,
     "metadata": {},
     "output_type": "execute_result"
    }
   ],
   "source": [
    "Eff = Sum/sumTransformPhysicalDistibutionmatchCMS_Run3\n",
    "Eff"
   ]
  }
 ],
 "metadata": {
  "kernelspec": {
   "display_name": "Python 3 (ipykernel)",
   "language": "python",
   "name": "py3-preamble"
  },
  "language_info": {
   "codemirror_mode": {
    "name": "ipython",
    "version": 3
   },
   "file_extension": ".py",
   "mimetype": "text/x-python",
   "name": "python",
   "nbconvert_exporter": "python",
   "pygments_lexer": "ipython3",
   "version": "3.9.15"
  }
 },
 "nbformat": 4,
 "nbformat_minor": 5
}
